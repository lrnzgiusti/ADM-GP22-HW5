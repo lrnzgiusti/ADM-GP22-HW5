{
 "cells": [
  {
   "cell_type": "markdown",
   "metadata": {},
   "source": [
    "# Homework 5 - Visit the Wikipedia hyperlinks graph!\n",
    "In this assignment we perform an analysis of the Wikipedia Hyperlink graph. In particular, given extra information about the categories to which an article belongs to, we are curious to rank the articles according to some criteria. "
   ]
  },
  {
   "cell_type": "markdown",
   "metadata": {},
   "source": [
    "<div style=\"text-align:center\"><img src=\"https://i.pinimg.com/originals/a7/5f/dc/a75fdcab110ae11f155ed96f428a86ae.png\"/> </div>"
   ]
  },
  {
   "cell_type": "markdown",
   "metadata": {},
   "source": [
    "## Research questions\n",
    "\n",
    "\n",
    "**[RQ1]** Build the graph <img src=\"https://latex.codecogs.com/gif.latex?G=(V,&space;E)\" title=\"G=(V, E)\" /> where *V* is the set of articles and *E* the hyperlinks among them, and provide its basic information:\n",
    " \n",
    "- If it is direct or not\n",
    "- The number of nodes\n",
    "- The number of edges \n",
    "- The average node degree. Is the graph dense?"
   ]
  },
  {
   "cell_type": "markdown",
   "metadata": {},
   "source": [
    "###### Build the graph!"
   ]
  },
  {
   "cell_type": "code",
   "execution_count": 19,
   "metadata": {},
   "outputs": [],
   "source": [
    "from collections import defaultdict\n",
    "import networkx as nx\n",
    "from itertools import product\n",
    "from collections import deque"
   ]
  },
  {
   "cell_type": "code",
   "execution_count": 2,
   "metadata": {
    "scrolled": false
   },
   "outputs": [],
   "source": [
    "file = open('wiki-topcats-reduced.txt','r').read().split('\\n')\n",
    "grafo = defaultdict(set)\n",
    "for row in file:\n",
    "        link=row.split('\\t')\n",
    "        try:\n",
    "            grafo[link[0]].add(link[1])\n",
    "            if link[1] not in grafo:\n",
    "                grafo[link[1]] = set()\n",
    "        except: \n",
    "            pass"
   ]
  },
  {
   "cell_type": "markdown",
   "metadata": {},
   "source": [
    "###### Find out if it's directed or not:\n",
    "\n",
    "We want to check if all the nodes that have edges coming form the node __62__ have an edge to the node __62__."
   ]
  },
  {
   "cell_type": "code",
   "execution_count": 3,
   "metadata": {},
   "outputs": [
    {
     "name": "stdout",
     "output_type": "stream",
     "text": [
      "False\n"
     ]
    }
   ],
   "source": [
    "print(all([\"62\" in grafo[edge] for edge in grafo['62']]))"
   ]
  },
  {
   "cell_type": "markdown",
   "metadata": {},
   "source": [
    "As you can see, the statement above tells us that not all the nodes that are pointed by the node __62__ have an edge to the node __62__ and this is the counterexample to proof that our graph is directed."
   ]
  },
  {
   "cell_type": "markdown",
   "metadata": {},
   "source": [
    "###### Get the number of nodes!"
   ]
  },
  {
   "cell_type": "code",
   "execution_count": 4,
   "metadata": {},
   "outputs": [
    {
     "data": {
      "text/plain": [
       "461195"
      ]
     },
     "execution_count": 4,
     "metadata": {},
     "output_type": "execute_result"
    }
   ],
   "source": [
    "number_of_nodes=len(grafo)\n",
    "number_of_nodes"
   ]
  },
  {
   "cell_type": "markdown",
   "metadata": {},
   "source": [
    "###### Get the number of edges!"
   ]
  },
  {
   "cell_type": "code",
   "execution_count": 5,
   "metadata": {},
   "outputs": [
    {
     "data": {
      "text/plain": [
       "2645247"
      ]
     },
     "execution_count": 5,
     "metadata": {},
     "output_type": "execute_result"
    }
   ],
   "source": [
    "number_of_edges= sum([len(grafo[node]) for node in grafo])\n",
    "number_of_edges"
   ]
  },
  {
   "cell_type": "markdown",
   "metadata": {},
   "source": [
    "###### Get the average node degree. Is the graph dense?"
   ]
  },
  {
   "cell_type": "markdown",
   "metadata": {},
   "source": [
    "In graph theory, the degree (or valency) of a vertex of a graph is the number of edges incident to the vertex. The degree of a vertex $v$ is denoted $\\deg(v)$."
   ]
  },
  {
   "cell_type": "code",
   "execution_count": 6,
   "metadata": {},
   "outputs": [
    {
     "data": {
      "text/plain": [
       "11.47127353939223"
      ]
     },
     "execution_count": 6,
     "metadata": {},
     "output_type": "execute_result"
    }
   ],
   "source": [
    "avg_degree= 2*number_of_edges/number_of_nodes\n",
    "avg_degree"
   ]
  },
  {
   "cell_type": "markdown",
   "metadata": {},
   "source": [
    "As we see, the average node degree is slightly great than six.\n",
    "In mathematics, a dense graph is a graph in which the number of edges is close to the maximal number of edges.\n",
    "We can conclude that the graph is quietly dense."
   ]
  },
  {
   "cell_type": "markdown",
   "metadata": {},
   "source": [
    "## RQ2 \n",
    "Given a category $C_0 = \\{article_1, article_2, ... \\}$ as input we want to rank all of the nodes in V according to the following criteria:"
   ]
  },
  {
   "cell_type": "code",
   "execution_count": 7,
   "metadata": {},
   "outputs": [],
   "source": [
    "categories = defaultdict(list)\n",
    "with open('wiki-topcats-categories.txt', 'r') as f:\n",
    "    for row in f:\n",
    "        splitted_row = row.split(' ')\n",
    "        if len(splitted_row[1:]) > 3500:\n",
    "            categories[splitted_row[0][9:-1]] = splitted_row[1:]"
   ]
  },
  {
   "cell_type": "code",
   "execution_count": 8,
   "metadata": {},
   "outputs": [],
   "source": [
    "G = nx.read_edgelist('wiki-topcats-reduced.txt', nodetype=str, delimiter='\\t', create_using=nx.DiGraph())"
   ]
  },
  {
   "cell_type": "code",
   "execution_count": 9,
   "metadata": {},
   "outputs": [],
   "source": [
    "C0 = 'English_footballers'\n",
    "C1 = 'Association_football_midfielders'"
   ]
  },
  {
   "cell_type": "code",
   "execution_count": 29,
   "metadata": {},
   "outputs": [],
   "source": [
    "cart_prod = product(categories[C0], categories[C1])"
   ]
  },
  {
   "cell_type": "code",
   "execution_count": 121,
   "metadata": {},
   "outputs": [],
   "source": [
    "# graph is a networkx directed graph\n",
    "# source is the source node represented as a string.\n",
    "# target is the target, same as before.\n",
    "\n",
    "def shortest_path(graph, source, target):\n",
    "    visited = dict()#is the list containing the nodes of the shortest path between the source and the target\n",
    "    path = []\n",
    "    visited[source] = 'null'\n",
    "    to_visit = deque([source])\n",
    "    while(to_visit):\n",
    "        visiting = to_visit.pop()\n",
    "        vicini = set(G.neighbors(visiting))\n",
    "        visited.update({vicino : visiting for vicino in vicini if vicino not in visited})\n",
    "        to_visit.extendleft(vicini)\n",
    "        if target in vicini:\n",
    "            chiave = target\n",
    "            path.append(target)\n",
    "            while visited[chiave] != 'null':\n",
    "                path.append(visited[chiave])\n",
    "                chiave = visited[chiave]\n",
    "            \n",
    "            return path[::-1]\n",
    "                "
   ]
  },
  {
   "cell_type": "code",
   "execution_count": 122,
   "metadata": {},
   "outputs": [],
   "source": [
    "asidbas = shortest_path(G, '52', '107')"
   ]
  },
  {
   "cell_type": "code",
   "execution_count": 123,
   "metadata": {},
   "outputs": [
    {
     "data": {
      "text/plain": [
       "['52', '1163551', '1061284', '1061246', '1181401', '107']"
      ]
     },
     "execution_count": 123,
     "metadata": {},
     "output_type": "execute_result"
    }
   ],
   "source": [
    "asidbas"
   ]
  },
  {
   "cell_type": "code",
   "execution_count": 124,
   "metadata": {},
   "outputs": [
    {
     "data": {
      "text/plain": [
       "['52', '1163551', '1061284', '1061246', '1181401', '107']"
      ]
     },
     "execution_count": 124,
     "metadata": {},
     "output_type": "execute_result"
    }
   ],
   "source": [
    "nx.shortest_path(G, '52', '107')"
   ]
  },
  {
   "cell_type": "code",
   "execution_count": null,
   "metadata": {},
   "outputs": [],
   "source": []
  },
  {
   "cell_type": "code",
   "execution_count": 116,
   "metadata": {},
   "outputs": [
    {
     "data": {
      "text/plain": [
       "['60219',\n",
       " '167532',\n",
       " '400980',\n",
       " '401018',\n",
       " '401019',\n",
       " '401053',\n",
       " '401067',\n",
       " '401137',\n",
       " '401154',\n",
       " '401171',\n",
       " '401184',\n",
       " '401227',\n",
       " '401231',\n",
       " '401295',\n",
       " '401310',\n",
       " '401315',\n",
       " '401457',\n",
       " '401474',\n",
       " '401505',\n",
       " '401609',\n",
       " '401628',\n",
       " '401975',\n",
       " '401981',\n",
       " '402265',\n",
       " '402300',\n",
       " '402715',\n",
       " '402718',\n",
       " '447882',\n",
       " '595633',\n",
       " '606279',\n",
       " '630946',\n",
       " '723911',\n",
       " '724192',\n",
       " '776478',\n",
       " '809904',\n",
       " '810461',\n",
       " '824998',\n",
       " '827334',\n",
       " '946986',\n",
       " '961942',\n",
       " '1058269',\n",
       " '1060341',\n",
       " '1061728',\n",
       " '1061824',\n",
       " '1061885',\n",
       " '1061905',\n",
       " '1062323',\n",
       " '1062938',\n",
       " '1161659',\n",
       " '1163338',\n",
       " '1163407',\n",
       " '1163551',\n",
       " '1163806',\n",
       " '1169888',\n",
       " '1184217',\n",
       " '1184538',\n",
       " '1245651',\n",
       " '1288076',\n",
       " '1288276',\n",
       " '1394526',\n",
       " '1399606',\n",
       " '1571179']"
      ]
     },
     "execution_count": 116,
     "metadata": {},
     "output_type": "execute_result"
    }
   ],
   "source": [
    "list(G.neighbors('401135'))"
   ]
  },
  {
   "cell_type": "code",
   "execution_count": null,
   "metadata": {},
   "outputs": [],
   "source": []
  },
  {
   "cell_type": "code",
   "execution_count": null,
   "metadata": {},
   "outputs": [],
   "source": [
    "score={}\n",
    "for edge in Gprime.edges():\n",
    "    if edge[1] not in score:\n",
    "        score[edge[1]]=1\n",
    "    else:\n",
    "        score[edge[1]]+=1"
   ]
  }
 ],
 "metadata": {
  "kernelspec": {
   "display_name": "Python 3",
   "language": "python",
   "name": "python3"
  },
  "language_info": {
   "codemirror_mode": {
    "name": "ipython",
    "version": 3
   },
   "file_extension": ".py",
   "mimetype": "text/x-python",
   "name": "python",
   "nbconvert_exporter": "python",
   "pygments_lexer": "ipython3",
   "version": "3.6.6"
  },
  "varInspector": {
   "cols": {
    "lenName": 16,
    "lenType": 16,
    "lenVar": 40
   },
   "kernels_config": {
    "python": {
     "delete_cmd_postfix": "",
     "delete_cmd_prefix": "del ",
     "library": "var_list.py",
     "varRefreshCmd": "print(var_dic_list())"
    },
    "r": {
     "delete_cmd_postfix": ") ",
     "delete_cmd_prefix": "rm(",
     "library": "var_list.r",
     "varRefreshCmd": "cat(var_dic_list()) "
    }
   },
   "types_to_exclude": [
    "module",
    "function",
    "builtin_function_or_method",
    "instance",
    "_Feature"
   ],
   "window_display": false
  }
 },
 "nbformat": 4,
 "nbformat_minor": 2
}
