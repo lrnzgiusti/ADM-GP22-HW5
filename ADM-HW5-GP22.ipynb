{
 "cells": [
  {
   "cell_type": "markdown",
   "metadata": {},
   "source": [
    "# Homework 5 - Visit the Wikipedia hyperlinks graph!\n",
    "In this assignment we perform an analysis of the Wikipedia Hyperlink graph. In particular, given extra information about the categories to which an article belongs to, we are curious to rank the articles according to some criteria. "
   ]
  },
  {
   "cell_type": "markdown",
   "metadata": {},
   "source": [
    "<div style=\"text-align:center\"><img src=\"https://i.pinimg.com/originals/a7/5f/dc/a75fdcab110ae11f155ed96f428a86ae.png\"/> </div>"
   ]
  },
  {
   "cell_type": "markdown",
   "metadata": {},
   "source": [
    "## Research questions\n",
    "\n",
    "\n",
    "**[RQ1]** Build the graph <img src=\"https://latex.codecogs.com/gif.latex?G=(V,&space;E)\" title=\"G=(V, E)\" /> where *V* is the set of articles and *E* the hyperlinks among them, and provide its basic information:\n",
    " \n",
    "- If it is direct or not\n",
    "- The number of nodes\n",
    "- The number of edges \n",
    "- The average node degree. Is the graph dense?"
   ]
  },
  {
   "cell_type": "markdown",
   "metadata": {},
   "source": [
    "###### Build the graph!"
   ]
  },
  {
   "cell_type": "code",
   "execution_count": 5,
   "metadata": {},
   "outputs": [],
   "source": [
    "from collections import defaultdict\n",
    "import networkx as nx\n",
    "from itertools import product\n",
    "from collections import deque"
   ]
  },
  {
   "cell_type": "code",
   "execution_count": null,
   "metadata": {
    "scrolled": false
   },
   "outputs": [],
   "source": [
    "file = open('wiki-topcats-reduced.txt','r').read().split('\\n')\n",
    "grafo = defaultdict(set)\n",
    "for row in file:\n",
    "        link=row.split('\\t')\n",
    "        try:\n",
    "            grafo[link[0]].add(link[1])\n",
    "            if link[1] not in grafo:\n",
    "                grafo[link[1]] = set()\n",
    "        except: \n",
    "            pass"
   ]
  },
  {
   "cell_type": "markdown",
   "metadata": {},
   "source": [
    "###### Find out if it's directed or not:\n",
    "\n",
    "We want to check if all the nodes that have edges coming form the node __62__ have an edge to the node __62__."
   ]
  },
  {
   "cell_type": "code",
   "execution_count": null,
   "metadata": {},
   "outputs": [],
   "source": [
    "print(all([\"62\" in grafo[edge] for edge in grafo['62']]))"
   ]
  },
  {
   "cell_type": "markdown",
   "metadata": {},
   "source": [
    "As you can see, the statement above tells us that not all the nodes that are pointed by the node __62__ have an edge to the node __62__ and this is the counterexample to proof that our graph is directed."
   ]
  },
  {
   "cell_type": "markdown",
   "metadata": {},
   "source": [
    "###### Get the number of nodes!"
   ]
  },
  {
   "cell_type": "code",
   "execution_count": null,
   "metadata": {},
   "outputs": [],
   "source": [
    "number_of_nodes=len(grafo)\n",
    "number_of_nodes"
   ]
  },
  {
   "cell_type": "markdown",
   "metadata": {},
   "source": [
    "###### Get the number of edges!"
   ]
  },
  {
   "cell_type": "code",
   "execution_count": null,
   "metadata": {},
   "outputs": [],
   "source": [
    "number_of_edges= sum([len(grafo[node]) for node in grafo])\n",
    "number_of_edges"
   ]
  },
  {
   "cell_type": "markdown",
   "metadata": {},
   "source": [
    "###### Get the average node degree. Is the graph dense?"
   ]
  },
  {
   "cell_type": "markdown",
   "metadata": {},
   "source": [
    "In graph theory, the degree (or valency) of a vertex of a graph is the number of edges incident to the vertex. The degree of a vertex $v$ is denoted $\\deg(v)$."
   ]
  },
  {
   "cell_type": "code",
   "execution_count": null,
   "metadata": {},
   "outputs": [],
   "source": [
    "avg_degree= 2*number_of_edges/number_of_nodes\n",
    "avg_degree"
   ]
  },
  {
   "cell_type": "markdown",
   "metadata": {},
   "source": [
    "As we see, on average a node has 11-12 edges connected with him.\n",
    "In mathematics, a dense graph is a graph in which the number of edges is close to the maximal number of edges, so\n",
    "we can conclude that the graph is quietly dense."
   ]
  },
  {
   "cell_type": "markdown",
   "metadata": {},
   "source": [
    "## RQ2 \n",
    "Given a category $C_0 = \\{article_1, article_2, ... \\}$ as input we want to rank all of the nodes in V according to the following criteria:"
   ]
  },
  {
   "cell_type": "code",
   "execution_count": 6,
   "metadata": {},
   "outputs": [],
   "source": [
    "categories = defaultdict(list)\n",
    "with open('wiki-topcats-categories.txt', 'r') as f:\n",
    "    for row in f:\n",
    "        splitted_row = row.split(' ')\n",
    "        if len(splitted_row[1:]) > 3500:\n",
    "            categories[splitted_row[0][9:-1]] = splitted_row[1:]"
   ]
  },
  {
   "cell_type": "code",
   "execution_count": 7,
   "metadata": {},
   "outputs": [],
   "source": [
    "inverted_index = {}\n",
    "inverted_index.update({nodo:categoria for categoria in categories for nodo in categories[categoria]})"
   ]
  },
  {
   "cell_type": "code",
   "execution_count": 8,
   "metadata": {},
   "outputs": [],
   "source": [
    "G = nx.read_edgelist('wiki-topcats-reduced.txt', nodetype=str, delimiter='\\t', create_using=nx.DiGraph())"
   ]
  },
  {
   "cell_type": "code",
   "execution_count": 9,
   "metadata": {},
   "outputs": [],
   "source": [
    "for node in G:\n",
    "    if node in inverted_index:\n",
    "        G.nodes[node]['cat'] = inverted_index[node]"
   ]
  },
  {
   "cell_type": "code",
   "execution_count": 10,
   "metadata": {},
   "outputs": [],
   "source": [
    "C0 = 'English_footballers'\n",
    "C1 = 'Association_football_midfielders'"
   ]
  },
  {
   "cell_type": "code",
   "execution_count": 11,
   "metadata": {},
   "outputs": [],
   "source": [
    "cart_prod = product(categories[C0], categories[C1])"
   ]
  },
  {
   "cell_type": "code",
   "execution_count": 12,
   "metadata": {},
   "outputs": [],
   "source": [
    "# graph is a networkx directed graph\n",
    "# source is the source node represented as a string.\n",
    "# target is the target, same as before.\n",
    "\n",
    "def shortest_path(graph, source, target):\n",
    "    visited = dict()#is the list containing the nodes of the shortest path between the source and the target\n",
    "    path = []\n",
    "    visited[source] = 'null'\n",
    "    to_visit = deque([source])\n",
    "    while(to_visit):\n",
    "        visiting = to_visit.pop()\n",
    "        vicini = set(G.neighbors(visiting))\n",
    "        visited.update({vicino : visiting for vicino in vicini if vicino not in visited})\n",
    "        to_visit.extendleft(vicini)\n",
    "        if target in vicini:\n",
    "            chiave = target\n",
    "            path.append(target)\n",
    "            while visited[chiave] != 'null':\n",
    "                path.append(visited[chiave])\n",
    "                chiave = visited[chiave]\n",
    "            return path[::-1]\n",
    "\n",
    "        \n",
    "def spanning_tree(graph, source):\n",
    "    visited = dict()#is the list containing the nodes of the shortest path between the source and the target\n",
    "    visited[source] = 'null'\n",
    "    to_visit = deque([source])\n",
    "    while(to_visit):\n",
    "        visiting = to_visit.pop()\n",
    "        vicini = set(G.neighbors(visiting))\n",
    "        yield {vicino : visiting for vicino in vicini if vicino not in visited}\n",
    "        visited.update({vicino : visiting for vicino in vicini if vicino not in visited})\n",
    "        to_visit.extendleft(vicini)\n",
    "    "
   ]
  },
  {
   "cell_type": "code",
   "execution_count": 13,
   "metadata": {},
   "outputs": [],
   "source": [
    "asidbas = shortest_path(G, '52', '107')"
   ]
  },
  {
   "cell_type": "code",
   "execution_count": 14,
   "metadata": {},
   "outputs": [
    {
     "data": {
      "text/plain": [
       "['52', '1163551', '1061284', '1061246', '1181401', '107']"
      ]
     },
     "execution_count": 14,
     "metadata": {},
     "output_type": "execute_result"
    }
   ],
   "source": [
    "asidbas"
   ]
  },
  {
   "cell_type": "code",
   "execution_count": null,
   "metadata": {},
   "outputs": [],
   "source": [
    "score={}\n",
    "for edge in Gprime.edges():\n",
    "    if edge[1] not in score:\n",
    "        score[edge[1]]=1\n",
    "    else:\n",
    "        score[edge[1]]+=1"
   ]
  },
  {
   "cell_type": "code",
   "execution_count": 51,
   "metadata": {},
   "outputs": [],
   "source": [
    "st = spanning_tree(G,'52')\n",
    "depth = 0\n",
    "source = '52'\n",
    "dest = '107'\n",
    "\n",
    "class Generator:\n",
    "    def __init__(self, gen):\n",
    "        self.gen = gen\n",
    "\n",
    "    def __iter__(self):\n",
    "        self.value = yield from self.gen\n",
    "        \n",
    "        \n",
    "def wrapper(G, source):\n",
    "    def depth(st, source, dest, deep):\n",
    "        for i in st:\n",
    "            if dest == source:\n",
    "                yield dest\n",
    "                raise StopIteration(depth)\n",
    "            if dest in i:\n",
    "                #print('a ',dest)\n",
    "                yield dest\n",
    "                yield from depth(spanning_tree(G,source), source, i[dest], deep+1)#from depth(spanning_tree(G,source), source, i[dest])\n",
    "            return deep\n",
    "            \n",
    "    st = spanning_tree(G, source)\n",
    "    a = Generator(depth(st, source ,dest,0))\n",
    "    #print(list(a))\n",
    "\n",
    "    #print(a.value)\n",
    "    return a"
   ]
  },
  {
   "cell_type": "code",
   "execution_count": 52,
   "metadata": {},
   "outputs": [],
   "source": [
    "v = wrapper(G, '52')"
   ]
  },
  {
   "cell_type": "code",
   "execution_count": 53,
   "metadata": {},
   "outputs": [],
   "source": [
    "for i in v:\n",
    "    print(i)"
   ]
  },
  {
   "cell_type": "code",
   "execution_count": null,
   "metadata": {},
   "outputs": [],
   "source": []
  }
 ],
 "metadata": {
  "kernelspec": {
   "display_name": "Python 3",
   "language": "python",
   "name": "python3"
  },
  "language_info": {
   "codemirror_mode": {
    "name": "ipython",
    "version": 3
   },
   "file_extension": ".py",
   "mimetype": "text/x-python",
   "name": "python",
   "nbconvert_exporter": "python",
   "pygments_lexer": "ipython3",
   "version": "3.6.6"
  },
  "varInspector": {
   "cols": {
    "lenName": 16,
    "lenType": 16,
    "lenVar": 40
   },
   "kernels_config": {
    "python": {
     "delete_cmd_postfix": "",
     "delete_cmd_prefix": "del ",
     "library": "var_list.py",
     "varRefreshCmd": "print(var_dic_list())"
    },
    "r": {
     "delete_cmd_postfix": ") ",
     "delete_cmd_prefix": "rm(",
     "library": "var_list.r",
     "varRefreshCmd": "cat(var_dic_list()) "
    }
   },
   "oldHeight": 122,
   "position": {
    "height": "40px",
    "left": "833px",
    "right": "81px",
    "top": "129px",
    "width": "350px"
   },
   "types_to_exclude": [
    "module",
    "function",
    "builtin_function_or_method",
    "instance",
    "_Feature"
   ],
   "varInspector_section_display": "none",
   "window_display": false
  }
 },
 "nbformat": 4,
 "nbformat_minor": 2
}
