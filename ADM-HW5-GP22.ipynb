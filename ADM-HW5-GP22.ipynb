{
 "cells": [
  {
   "cell_type": "markdown",
   "metadata": {},
   "source": [
    "# Homework 5 - Visit the Wikipedia hyperlinks graph!\n",
    "In this assignment we perform an analysis of the Wikipedia Hyperlink graph. In particular, given extra information about the categories to which an article belongs to, we are curious to rank the articles according to some criteria. "
   ]
  },
  {
   "cell_type": "markdown",
   "metadata": {},
   "source": [
    "<div style=\"text-align:center\"><img src=\"https://i.pinimg.com/originals/a7/5f/dc/a75fdcab110ae11f155ed96f428a86ae.png\"/> </div>"
   ]
  },
  {
   "cell_type": "markdown",
   "metadata": {},
   "source": [
    "## Research questions\n",
    "\n",
    "\n",
    "**[RQ1]** Build the graph <img src=\"https://latex.codecogs.com/gif.latex?G=(V,&space;E)\" title=\"G=(V, E)\" /> where *V* is the set of articles and *E* the hyperlinks among them, and provide its basic information:\n",
    " \n",
    "- If it is direct or not\n",
    "- The number of nodes\n",
    "- The number of edges \n",
    "- The average node degree. Is the graph dense?"
   ]
  },
  {
   "cell_type": "markdown",
   "metadata": {},
   "source": [
    "###### Build the graph!"
   ]
  },
  {
   "cell_type": "code",
   "execution_count": 22,
   "metadata": {},
   "outputs": [],
   "source": [
    "import json\n",
    "import pandas as pd\n",
    "from collections import defaultdict"
   ]
  },
  {
   "cell_type": "code",
   "execution_count": 65,
   "metadata": {
    "scrolled": false
   },
   "outputs": [],
   "source": [
    "file = open('wiki-topcats-reduced.txt','r').read().split('\\n')\n",
    "grafo = defaultdict(set)\n",
    "for row in file:\n",
    "        link=row.split('\\t')\n",
    "        try:\n",
    "            grafo[link[0]].add(link[1])\n",
    "            if link[1] not in grafo:\n",
    "                grafo[link[1]] = set()\n",
    "        except: \n",
    "            pass"
   ]
  },
  {
   "cell_type": "markdown",
   "metadata": {},
   "source": [
    "###### Find out if it's directed or not:\n",
    "\n",
    "We want to check if all the nodes that have edges coming form the node __62__ have an edge to the node __62__."
   ]
  },
  {
   "cell_type": "code",
   "execution_count": 66,
   "metadata": {},
   "outputs": [
    {
     "name": "stdout",
     "output_type": "stream",
     "text": [
      "False\n"
     ]
    }
   ],
   "source": [
    "print(all([\"62\" in grafo[edge] for edge in grafo['62']]))"
   ]
  },
  {
   "cell_type": "markdown",
   "metadata": {},
   "source": [
    "As you can see, the statement above tells us that not all the nodes that are pointed by the node __62__ have an edge to the node __62__ and this is the counterexample to proof that our graph is directed."
   ]
  },
  {
   "cell_type": "markdown",
   "metadata": {},
   "source": [
    "###### Get the number of nodes!"
   ]
  },
  {
   "cell_type": "code",
   "execution_count": 67,
   "metadata": {},
   "outputs": [
    {
     "data": {
      "text/plain": [
       "461195"
      ]
     },
     "execution_count": 67,
     "metadata": {},
     "output_type": "execute_result"
    }
   ],
   "source": [
    "number_of_nodes=len(grafo)\n",
    "number_of_nodes"
   ]
  },
  {
   "cell_type": "markdown",
   "metadata": {},
   "source": [
    "###### Get the number of edges!"
   ]
  },
  {
   "cell_type": "code",
   "execution_count": 68,
   "metadata": {},
   "outputs": [
    {
     "data": {
      "text/plain": [
       "2645247"
      ]
     },
     "execution_count": 68,
     "metadata": {},
     "output_type": "execute_result"
    }
   ],
   "source": [
    "number_of_edges= sum([len(grafo[node]) for node in grafo])\n",
    "number_of_edges"
   ]
  },
  {
   "cell_type": "markdown",
   "metadata": {},
   "source": [
    "###### Get the average node degree. Is the graph dense?"
   ]
  },
  {
   "cell_type": "markdown",
   "metadata": {},
   "source": [
    "In graph theory, the degree (or valency) of a vertex of a graph is the number of edges incident to the vertex. The degree of a vertex $v$ is denoted $\\deg(v)$."
   ]
  },
  {
   "cell_type": "code",
   "execution_count": 6,
   "metadata": {},
   "outputs": [
    {
     "data": {
      "text/plain": [
       "11.47127353939223"
      ]
     },
     "execution_count": 6,
     "metadata": {},
     "output_type": "execute_result"
    }
   ],
   "source": [
    "avg_degree= 2*number_of_edges/number_of_nodes\n",
    "avg_degree"
   ]
  },
  {
   "cell_type": "markdown",
   "metadata": {},
   "source": [
    "As we see, on average a node has 11-12 edges connected with him.<br>\n",
    "We've calculated the average node degree with the following equation: $\\frac{2 \\cdot \\vert E \\vert}{\\vert V \\vert}$\n",
    "\n",
    "In mathematics, a dense graph is a graph in which the number of edges is close to the maximal number of edges, so\n",
    "we can conclude that the graph is quietly sparse."
   ]
  },
  {
   "cell_type": "markdown",
   "metadata": {},
   "source": [
    "## RQ2 \n",
    "![wikis](https://image.slidesharecdn.com/exploringarticlenetworksonwikipediawithnodexl-150512201926-lva1-app6891/95/exploring-article-networks-on-wikipedia-with-nodexl-16-638.jpg?cb=1431630282)\n",
    "Given a category $C_0 = \\{article_1, article_2, ... \\}$ as input we want to rank all of the nodes in V according to the following criteria: <br>\n",
    "Given an input category **C_0**, the first category of the rank, **C_0**, always corresponds to the input category. The order of the remaining categories is given by:\n",
    "<br>\n",
    "<br>\n",
    "<div style=\"text-align:center\">\n",
    "distance($C_0$, $C_i$) = median(ShortestPath($C_0$, $C_i$))\n",
    " </div>\n",
    "<br>\n",
    "\n",
    "The lower is the distance from **C_0**, the higher is the **C_i** position in the rank. ShortestPath(**C_0**, **C_i**) is the set of all the possible shortest paths between the nodes of **C_0** and **C_i**. "
   ]
  },
  {
   "cell_type": "markdown",
   "metadata": {},
   "source": [
    "Fist of all we have to import our class that contains all the useful stuffs in order to build our block ranking."
   ]
  },
  {
   "cell_type": "code",
   "execution_count": 8,
   "metadata": {},
   "outputs": [],
   "source": [
    "import handler"
   ]
  },
  {
   "cell_type": "markdown",
   "metadata": {},
   "source": [
    "In the constructor we have only few instructions, these are needed for the inizialization. <br>\n",
    "\n",
    "The first line pick the input category via standard input. <br>\n",
    "\n",
    "Next we build the dictionary that maps the categories with the articles that belongs to them, in this step the only constraint is to use only the categories that have more than __3500__ articles inside; since there are a lot of articles that belong to multiple categories we've to remove them according to a criteria that will be lighted later. <br> \n",
    "\n",
    "The last line load the graph from an edgelist. A problem that we've faced is that in the edgelist the line __#FromNodeId  ToNodeId__ missed and at the very beginning we had some troubles for this. \n"
   ]
  },
  {
   "cell_type": "code",
   "execution_count": 12,
   "metadata": {},
   "outputs": [
    {
     "name": "stdout",
     "output_type": "stream",
     "text": [
      "Windows_games\n"
     ]
    }
   ],
   "source": [
    "H = handler.Handler()"
   ]
  },
  {
   "cell_type": "markdown",
   "metadata": {},
   "source": [
    "![mthreads](https://cdn-images-1.medium.com/max/2000/1*6DyyyyZqMPIaHhoVXPPxtg.jpeg)"
   ]
  },
  {
   "cell_type": "markdown",
   "metadata": {},
   "source": [
    "Now for build the block ranking the only thing to do is call the function __\"scheduler\"__ that is a multithread interface to the median calculator, it opens as much threads as it can, attach to it the function __\"multithread_engine\"__ with the name of the __C_i-th__ category as parameter (all other variables you need are inside the class) and the results are stores in a json format file with this standard: __{'Name_of_i-th_category' : Score}__ The score is assigned via the following equation. <br> <br>\n",
    "\n",
    "<div style=\"text-align:center\"> $median(ShortestPath(C_0, C_i)) + \\sqrt{Infs} \\cdot log(1+Infs)$ </div> <br>\n",
    "\n",
    "* Infs contains the number of missig paths from $C_0$ to $C_i$\n",
    "* The more missing paths you have, the higher is the distance and the category $C_i$ goes down in the rank.\n",
    "* We have avoided to insert the infinites inside the collection in order to avoid bad results of the computation.\n",
    "* If the shortest_path has 0 missing paths the second term of the equation is **0** and you end only with the classical median\n",
    "\n",
    "<br>\n",
    "\n",
    "Once you have all the results, the block ranking is the recombination of the json-files into a sorted big one in ascending order. Since the computation is very expansive, we save it for future purposes."
   ]
  },
  {
   "cell_type": "code",
   "execution_count": 13,
   "metadata": {},
   "outputs": [],
   "source": [
    "block_ranking = H.scheduler()"
   ]
  },
  {
   "cell_type": "code",
   "execution_count": 20,
   "metadata": {},
   "outputs": [
    {
     "data": {
      "text/html": [
       "<div>\n",
       "<style scoped>\n",
       "    .dataframe tbody tr th:only-of-type {\n",
       "        vertical-align: middle;\n",
       "    }\n",
       "\n",
       "    .dataframe tbody tr th {\n",
       "        vertical-align: top;\n",
       "    }\n",
       "\n",
       "    .dataframe thead th {\n",
       "        text-align: right;\n",
       "    }\n",
       "</style>\n",
       "<table border=\"1\" class=\"dataframe\">\n",
       "  <thead>\n",
       "    <tr style=\"text-align: right;\">\n",
       "      <th></th>\n",
       "      <th>Category</th>\n",
       "      <th>Distance</th>\n",
       "    </tr>\n",
       "  </thead>\n",
       "  <tbody>\n",
       "    <tr>\n",
       "      <th>0</th>\n",
       "      <td>Windows_games</td>\n",
       "      <td>-1.000000</td>\n",
       "    </tr>\n",
       "    <tr>\n",
       "      <th>1</th>\n",
       "      <td>American_films</td>\n",
       "      <td>215.067515</td>\n",
       "    </tr>\n",
       "    <tr>\n",
       "      <th>2</th>\n",
       "      <td>American_film_actors</td>\n",
       "      <td>220.362446</td>\n",
       "    </tr>\n",
       "    <tr>\n",
       "      <th>3</th>\n",
       "      <td>Members_of_the_United_Kingdom_Parliament_for_E...</td>\n",
       "      <td>225.458473</td>\n",
       "    </tr>\n",
       "    <tr>\n",
       "      <th>4</th>\n",
       "      <td>Indian_films</td>\n",
       "      <td>232.414749</td>\n",
       "    </tr>\n",
       "  </tbody>\n",
       "</table>\n",
       "</div>"
      ],
      "text/plain": [
       "                                            Category    Distance\n",
       "0                                      Windows_games   -1.000000\n",
       "1                                     American_films  215.067515\n",
       "2                               American_film_actors  220.362446\n",
       "3  Members_of_the_United_Kingdom_Parliament_for_E...  225.458473\n",
       "4                                       Indian_films  232.414749"
      ]
     },
     "execution_count": 20,
     "metadata": {},
     "output_type": "execute_result"
    }
   ],
   "source": [
    "pd.DataFrame(block_ranking, columns=['Category', 'Distance']).head()"
   ]
  },
  {
   "cell_type": "markdown",
   "metadata": {},
   "source": [
    "## Category cleaning and PageRank\n",
    "![abba](https://www.andrearonzano.com/wp-content/uploads/2016/04/pagerank-esiste-ancora-andrea-ronzano-848x435.jpg)"
   ]
  },
  {
   "cell_type": "markdown",
   "metadata": {},
   "source": [
    "As we said before, we have to remove the articles that have multiple categories according to the following: <br>\n",
    "\n",
    "* If the article belongs to the input category remove it from all other categories.\n",
    "\n",
    "* The category of the article will correspond, among the categories it belongs to, to the closest to the input category."
   ]
  },
  {
   "cell_type": "markdown",
   "metadata": {},
   "source": [
    "### Before cleanup\n",
    "\n",
    "We want to show you that the cleanup is efficient and it converges to the right point.\n",
    "\n",
    "So in the next chuck we show a visualization of the map $< Category : Number ~ of ~ articles ~ in ~ that ~ category >$ "
   ]
  },
  {
   "cell_type": "code",
   "execution_count": 40,
   "metadata": {},
   "outputs": [
    {
     "data": {
      "text/html": [
       "<div>\n",
       "<style scoped>\n",
       "    .dataframe tbody tr th:only-of-type {\n",
       "        vertical-align: middle;\n",
       "    }\n",
       "\n",
       "    .dataframe tbody tr th {\n",
       "        vertical-align: top;\n",
       "    }\n",
       "\n",
       "    .dataframe thead th {\n",
       "        text-align: right;\n",
       "    }\n",
       "</style>\n",
       "<table border=\"1\" class=\"dataframe\">\n",
       "  <thead>\n",
       "    <tr style=\"text-align: right;\">\n",
       "      <th></th>\n",
       "      <th>Cat</th>\n",
       "      <th>Number of Articles</th>\n",
       "    </tr>\n",
       "  </thead>\n",
       "  <tbody>\n",
       "    <tr>\n",
       "      <th>0</th>\n",
       "      <td>English_footballers</td>\n",
       "      <td>9237</td>\n",
       "    </tr>\n",
       "    <tr>\n",
       "      <th>1</th>\n",
       "      <td>The_Football_League_players</td>\n",
       "      <td>9467</td>\n",
       "    </tr>\n",
       "    <tr>\n",
       "      <th>2</th>\n",
       "      <td>Association_football_forwards</td>\n",
       "      <td>6959</td>\n",
       "    </tr>\n",
       "    <tr>\n",
       "      <th>3</th>\n",
       "      <td>Association_football_goalkeepers</td>\n",
       "      <td>3997</td>\n",
       "    </tr>\n",
       "    <tr>\n",
       "      <th>4</th>\n",
       "      <td>Association_football_midfielders</td>\n",
       "      <td>8270</td>\n",
       "    </tr>\n",
       "  </tbody>\n",
       "</table>\n",
       "</div>"
      ],
      "text/plain": [
       "                                Cat  Number of Articles\n",
       "0               English_footballers                9237\n",
       "1       The_Football_League_players                9467\n",
       "2     Association_football_forwards                6959\n",
       "3  Association_football_goalkeepers                3997\n",
       "4  Association_football_midfielders                8270"
      ]
     },
     "execution_count": 40,
     "metadata": {},
     "output_type": "execute_result"
    }
   ],
   "source": [
    "cat2numarticles = {cat : len(H.categories[cat]) for cat in H.categories}\n",
    "pd.DataFrame(list(cat2numarticles.items()),\n",
    "                      columns=['Cat','Number of Articles']).head()"
   ]
  },
  {
   "cell_type": "markdown",
   "metadata": {},
   "source": [
    "We clean the cateogry, with the following criteria: <br>\n",
    "\n",
    "\n",
    "<div style=\"text-align:center\"> $O  =  \\bigcup_{i = 1}^{n} \\bigcap_{j = 1}^{n} \\left( {C_i},{C_j} \\right) $ </div> <br>\n",
    "Where: <br>\n",
    "\n",
    "* *n* is the number of categories\n",
    "* C_i, C_j are two arbitrary categories \n",
    "* O is the big-set that contains all the articles that we've to remove\n",
    "\n",
    "Once you have O, you simply intersect O with $C_i$ and remove it from $C_i$.\n",
    "The operation is inorder with respect to the block ranking disposition, so you keep the articles that are near to the input one, we've done this programmatically so you don't need multiple nested loops that slow the computation. Last, the operation is inplace so you don't need to store the result into another variable. "
   ]
  },
  {
   "cell_type": "code",
   "execution_count": 44,
   "metadata": {},
   "outputs": [],
   "source": [
    "H.cat_builder()"
   ]
  },
  {
   "cell_type": "markdown",
   "metadata": {},
   "source": [
    "Since we want to verify that all went well, we print the same frame we printed before with the uptaded map"
   ]
  },
  {
   "cell_type": "code",
   "execution_count": 45,
   "metadata": {},
   "outputs": [
    {
     "data": {
      "text/html": [
       "<div>\n",
       "<style scoped>\n",
       "    .dataframe tbody tr th:only-of-type {\n",
       "        vertical-align: middle;\n",
       "    }\n",
       "\n",
       "    .dataframe tbody tr th {\n",
       "        vertical-align: top;\n",
       "    }\n",
       "\n",
       "    .dataframe thead th {\n",
       "        text-align: right;\n",
       "    }\n",
       "</style>\n",
       "<table border=\"1\" class=\"dataframe\">\n",
       "  <thead>\n",
       "    <tr style=\"text-align: right;\">\n",
       "      <th></th>\n",
       "      <th>Cat</th>\n",
       "      <th>Number of Articles</th>\n",
       "    </tr>\n",
       "  </thead>\n",
       "  <tbody>\n",
       "    <tr>\n",
       "      <th>0</th>\n",
       "      <td>English_footballers</td>\n",
       "      <td>932</td>\n",
       "    </tr>\n",
       "    <tr>\n",
       "      <th>1</th>\n",
       "      <td>The_Football_League_players</td>\n",
       "      <td>9437</td>\n",
       "    </tr>\n",
       "    <tr>\n",
       "      <th>2</th>\n",
       "      <td>Association_football_forwards</td>\n",
       "      <td>5139</td>\n",
       "    </tr>\n",
       "    <tr>\n",
       "      <th>3</th>\n",
       "      <td>Association_football_goalkeepers</td>\n",
       "      <td>184</td>\n",
       "    </tr>\n",
       "    <tr>\n",
       "      <th>4</th>\n",
       "      <td>Association_football_midfielders</td>\n",
       "      <td>183</td>\n",
       "    </tr>\n",
       "  </tbody>\n",
       "</table>\n",
       "</div>"
      ],
      "text/plain": [
       "                                Cat  Number of Articles\n",
       "0               English_footballers                 932\n",
       "1       The_Football_League_players                9437\n",
       "2     Association_football_forwards                5139\n",
       "3  Association_football_goalkeepers                 184\n",
       "4  Association_football_midfielders                 183"
      ]
     },
     "execution_count": 45,
     "metadata": {},
     "output_type": "execute_result"
    }
   ],
   "source": [
    "cat2numarticles_after = {cat : len(H.categories[cat]) for cat in H.categories}\n",
    "pd.DataFrame(list(cat2numarticles_after.items()),\n",
    "                      columns=['Cat','Number of Articles']).head()"
   ]
  },
  {
   "cell_type": "markdown",
   "metadata": {},
   "source": [
    "As you can see, the number of articles inside each category dropped off.\n",
    "Another verification is to provide the bigset *\"O\"* and if it's empy we're fine!"
   ]
  },
  {
   "cell_type": "code",
   "execution_count": 46,
   "metadata": {},
   "outputs": [
    {
     "data": {
      "text/plain": [
       "set()"
      ]
     },
     "execution_count": 46,
     "metadata": {},
     "output_type": "execute_result"
    }
   ],
   "source": [
    "block_ranking = [elem[0] for elem in json.load(open('dropthebayes.json', 'r'))]\n",
    "visited = set()\n",
    "for supcategory in block_ranking:\n",
    "    bigset = set()\n",
    "    visited.add(supcategory)\n",
    "    for subcategory in block_ranking:\n",
    "        if subcategory in visited:\n",
    "            continue\n",
    "        else:\n",
    "            bigset = bigset.union(set(H.categories[subcategory]).intersection(H.categories[supcategory]))\n",
    "\n",
    "bigset"
   ]
  },
  {
   "cell_type": "markdown",
   "metadata": {},
   "source": [
    "Good!"
   ]
  },
  {
   "cell_type": "markdown",
   "metadata": {},
   "source": [
    "Now remains to do the rank according to the PageRank algorithm. <br>\n",
    "\n",
    "The next chunk doest the PageRank and store it into a dictionary $<Article : Score >$"
   ]
  },
  {
   "cell_type": "code",
   "execution_count": 52,
   "metadata": {},
   "outputs": [],
   "source": [
    "ranks = H.pagerank()"
   ]
  },
  {
   "cell_type": "markdown",
   "metadata": {},
   "source": [
    "The reamaining part provides some fancy visualizations, we want to show you which articles are the \"best\" for the given input category."
   ]
  },
  {
   "cell_type": "code",
   "execution_count": 95,
   "metadata": {},
   "outputs": [
    {
     "data": {
      "text/html": [
       "<div>\n",
       "<style scoped>\n",
       "    .dataframe tbody tr th:only-of-type {\n",
       "        vertical-align: middle;\n",
       "    }\n",
       "\n",
       "    .dataframe tbody tr th {\n",
       "        vertical-align: top;\n",
       "    }\n",
       "\n",
       "    .dataframe thead th {\n",
       "        text-align: right;\n",
       "    }\n",
       "</style>\n",
       "<table border=\"1\" class=\"dataframe\">\n",
       "  <thead>\n",
       "    <tr style=\"text-align: right;\">\n",
       "      <th></th>\n",
       "      <th>Id</th>\n",
       "      <th>Score</th>\n",
       "    </tr>\n",
       "  </thead>\n",
       "  <tbody>\n",
       "    <tr>\n",
       "      <th>0</th>\n",
       "      <td>1738167</td>\n",
       "      <td>55</td>\n",
       "    </tr>\n",
       "    <tr>\n",
       "      <th>1</th>\n",
       "      <td>1738168</td>\n",
       "      <td>49</td>\n",
       "    </tr>\n",
       "    <tr>\n",
       "      <th>2</th>\n",
       "      <td>1735504</td>\n",
       "      <td>38</td>\n",
       "    </tr>\n",
       "    <tr>\n",
       "      <th>3</th>\n",
       "      <td>1740913</td>\n",
       "      <td>37</td>\n",
       "    </tr>\n",
       "    <tr>\n",
       "      <th>4</th>\n",
       "      <td>1740964</td>\n",
       "      <td>34</td>\n",
       "    </tr>\n",
       "  </tbody>\n",
       "</table>\n",
       "</div>"
      ],
      "text/plain": [
       "        Id  Score\n",
       "0  1738167     55\n",
       "1  1738168     49\n",
       "2  1735504     38\n",
       "3  1740913     37\n",
       "4  1740964     34"
      ]
     },
     "execution_count": 95,
     "metadata": {},
     "output_type": "execute_result"
    }
   ],
   "source": [
    "topArticles = pd.DataFrame(sorted(ranks.items(), key = lambda lv: -lv[1]), columns=['Id','Score']).head()\n",
    "topArticles"
   ]
  },
  {
   "cell_type": "markdown",
   "metadata": {},
   "source": [
    "I want a mapping between the article id and the article name, in order to merge the dataframes"
   ]
  },
  {
   "cell_type": "code",
   "execution_count": 96,
   "metadata": {},
   "outputs": [
    {
     "data": {
      "text/html": [
       "<div>\n",
       "<style scoped>\n",
       "    .dataframe tbody tr th:only-of-type {\n",
       "        vertical-align: middle;\n",
       "    }\n",
       "\n",
       "    .dataframe tbody tr th {\n",
       "        vertical-align: top;\n",
       "    }\n",
       "\n",
       "    .dataframe thead th {\n",
       "        text-align: right;\n",
       "    }\n",
       "</style>\n",
       "<table border=\"1\" class=\"dataframe\">\n",
       "  <thead>\n",
       "    <tr style=\"text-align: right;\">\n",
       "      <th></th>\n",
       "      <th>Id</th>\n",
       "      <th>Article</th>\n",
       "    </tr>\n",
       "  </thead>\n",
       "  <tbody>\n",
       "    <tr>\n",
       "      <th>0</th>\n",
       "      <td>1736718</td>\n",
       "      <td>Wario Blast: Featuring Bomberman!</td>\n",
       "    </tr>\n",
       "    <tr>\n",
       "      <th>1</th>\n",
       "      <td>1736719</td>\n",
       "      <td>List of Super Famicom and Super Nintendo sport...</td>\n",
       "    </tr>\n",
       "    <tr>\n",
       "      <th>2</th>\n",
       "      <td>1736720</td>\n",
       "      <td>International Superstar Soccer (video game)</td>\n",
       "    </tr>\n",
       "    <tr>\n",
       "      <th>3</th>\n",
       "      <td>1736721</td>\n",
       "      <td>Tecmo Super NBA Basketball</td>\n",
       "    </tr>\n",
       "    <tr>\n",
       "      <th>4</th>\n",
       "      <td>1736722</td>\n",
       "      <td>Hanna Barbera's Turbo Toons</td>\n",
       "    </tr>\n",
       "  </tbody>\n",
       "</table>\n",
       "</div>"
      ],
      "text/plain": [
       "        Id                                            Article\n",
       "0  1736718                  Wario Blast: Featuring Bomberman!\n",
       "1  1736719  List of Super Famicom and Super Nintendo sport...\n",
       "2  1736720        International Superstar Soccer (video game)\n",
       "3  1736721                         Tecmo Super NBA Basketball\n",
       "4  1736722                        Hanna Barbera's Turbo Toons"
      ]
     },
     "execution_count": 96,
     "metadata": {},
     "output_type": "execute_result"
    }
   ],
   "source": [
    "id2name = {line.split(\" \")[0] : ' '.join(line.split(\" \")[1:])[:-1] for line in open('wiki-topcats-page-names.txt', 'r')}\n",
    "id2article = pd.DataFrame(list(id2name.items()),\n",
    "                      columns=['Id','Article'])\n",
    "id2article.head()"
   ]
  },
  {
   "cell_type": "markdown",
   "metadata": {},
   "source": [
    "Inner join between the frames computed before."
   ]
  },
  {
   "cell_type": "code",
   "execution_count": 97,
   "metadata": {},
   "outputs": [
    {
     "data": {
      "text/html": [
       "<div>\n",
       "<style scoped>\n",
       "    .dataframe tbody tr th:only-of-type {\n",
       "        vertical-align: middle;\n",
       "    }\n",
       "\n",
       "    .dataframe tbody tr th {\n",
       "        vertical-align: top;\n",
       "    }\n",
       "\n",
       "    .dataframe thead th {\n",
       "        text-align: right;\n",
       "    }\n",
       "</style>\n",
       "<table border=\"1\" class=\"dataframe\">\n",
       "  <thead>\n",
       "    <tr style=\"text-align: right;\">\n",
       "      <th></th>\n",
       "      <th>Id</th>\n",
       "      <th>Score</th>\n",
       "      <th>Article</th>\n",
       "    </tr>\n",
       "  </thead>\n",
       "  <tbody>\n",
       "    <tr>\n",
       "      <th>0</th>\n",
       "      <td>1738167</td>\n",
       "      <td>55</td>\n",
       "      <td>Half-Life (video game)</td>\n",
       "    </tr>\n",
       "    <tr>\n",
       "      <th>1</th>\n",
       "      <td>1738168</td>\n",
       "      <td>49</td>\n",
       "      <td>Half-Life 2</td>\n",
       "    </tr>\n",
       "    <tr>\n",
       "      <th>2</th>\n",
       "      <td>1740913</td>\n",
       "      <td>37</td>\n",
       "      <td>Myst</td>\n",
       "    </tr>\n",
       "    <tr>\n",
       "      <th>3</th>\n",
       "      <td>1740964</td>\n",
       "      <td>34</td>\n",
       "      <td>The Sims</td>\n",
       "    </tr>\n",
       "  </tbody>\n",
       "</table>\n",
       "</div>"
      ],
      "text/plain": [
       "        Id  Score                 Article\n",
       "0  1738167     55  Half-Life (video game)\n",
       "1  1738168     49             Half-Life 2\n",
       "2  1740913     37                    Myst\n",
       "3  1740964     34                The Sims"
      ]
     },
     "execution_count": 97,
     "metadata": {},
     "output_type": "execute_result"
    }
   ],
   "source": [
    "topArticles.merge(id2article, on = 'Id', how = 'inner')"
   ]
  },
  {
   "cell_type": "markdown",
   "metadata": {},
   "source": [
    "# Conclusions\n",
    "\n",
    "Seems that according to the data we have and *Windows_games* as input category, Half-Life is the most popular article on wikipedia.\n",
    "\n",
    "![half](https://steamcdn-a.akamaihd.net/steam/apps/70/header.jpg?t=1530045175)"
   ]
  }
 ],
 "metadata": {
  "kernelspec": {
   "display_name": "Python 3",
   "language": "python",
   "name": "python3"
  },
  "language_info": {
   "codemirror_mode": {
    "name": "ipython",
    "version": 3
   },
   "file_extension": ".py",
   "mimetype": "text/x-python",
   "name": "python",
   "nbconvert_exporter": "python",
   "pygments_lexer": "ipython3",
   "version": "3.6.6"
  },
  "varInspector": {
   "cols": {
    "lenName": 16,
    "lenType": 16,
    "lenVar": 40
   },
   "kernels_config": {
    "python": {
     "delete_cmd_postfix": "",
     "delete_cmd_prefix": "del ",
     "library": "var_list.py",
     "varRefreshCmd": "print(var_dic_list())"
    },
    "r": {
     "delete_cmd_postfix": ") ",
     "delete_cmd_prefix": "rm(",
     "library": "var_list.r",
     "varRefreshCmd": "cat(var_dic_list()) "
    }
   },
   "oldHeight": 122,
   "position": {
    "height": "40px",
    "left": "833px",
    "right": "81px",
    "top": "129px",
    "width": "350px"
   },
   "types_to_exclude": [
    "module",
    "function",
    "builtin_function_or_method",
    "instance",
    "_Feature"
   ],
   "varInspector_section_display": "none",
   "window_display": false
  }
 },
 "nbformat": 4,
 "nbformat_minor": 2
}
