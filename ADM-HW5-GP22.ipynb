{
 "cells": [
  {
   "cell_type": "markdown",
   "metadata": {},
   "source": [
    "# Homework 5 - Visit the Wikipedia hyperlinks graph!\n",
    "In this assignment we perform an analysis of the Wikipedia Hyperlink graph. In particular, given extra information about the categories to which an article belongs to, we are curious to rank the articles according to some criteria. "
   ]
  },
  {
   "cell_type": "markdown",
   "metadata": {},
   "source": [
    "<div style=\"text-align:center\"><img src=\"https://i.pinimg.com/originals/a7/5f/dc/a75fdcab110ae11f155ed96f428a86ae.png\"/> </div>"
   ]
  },
  {
   "cell_type": "markdown",
   "metadata": {},
   "source": [
    "## Research questions\n",
    "\n",
    "\n",
    "**[RQ1]** Build the graph <img src=\"https://latex.codecogs.com/gif.latex?G=(V,&space;E)\" title=\"G=(V, E)\" /> where *V* is the set of articles and *E* the hyperlinks among them, and provide its basic information:\n",
    " \n",
    "- If it is direct or not\n",
    "- The number of nodes\n",
    "- The number of edges \n",
    "- The average node degree. Is the graph dense?"
   ]
  },
  {
   "cell_type": "markdown",
   "metadata": {},
   "source": [
    "###### Build the graph!"
   ]
  },
  {
   "cell_type": "code",
   "execution_count": 64,
   "metadata": {},
   "outputs": [],
   "source": [
    "import numpy as np"
   ]
  },
  {
   "cell_type": "code",
   "execution_count": 65,
   "metadata": {
    "scrolled": false
   },
   "outputs": [],
   "source": [
    "file = open('wiki-topcats-reduced.txt','r').read().split('\\n')\n",
    "grafo = defaultdict(set)\n",
    "for row in file:\n",
    "        link=row.split('\\t')\n",
    "        try:\n",
    "            grafo[link[0]].add(link[1])\n",
    "            if link[1] not in grafo:\n",
    "                grafo[link[1]] = set()\n",
    "        except: \n",
    "            pass"
   ]
  },
  {
   "cell_type": "markdown",
   "metadata": {},
   "source": [
    "###### Find out if it's directed or not:\n",
    "\n",
    "We want to check if all the nodes that have edges coming form the node __62__ have an edge to the node __62__."
   ]
  },
  {
   "cell_type": "code",
   "execution_count": 66,
   "metadata": {},
   "outputs": [
    {
     "name": "stdout",
     "output_type": "stream",
     "text": [
      "False\n"
     ]
    }
   ],
   "source": [
    "print(all([\"62\" in grafo[edge] for edge in grafo['62']]))"
   ]
  },
  {
   "cell_type": "markdown",
   "metadata": {},
   "source": [
    "As you can see, the statement above tells us that not all the nodes that are pointed by the node __62__ have an edge to the node __62__ and this is the counterexample to proof that our graph is directed."
   ]
  },
  {
   "cell_type": "markdown",
   "metadata": {},
   "source": [
    "###### Get the number of nodes!"
   ]
  },
  {
   "cell_type": "code",
   "execution_count": 67,
   "metadata": {},
   "outputs": [
    {
     "data": {
      "text/plain": [
       "461195"
      ]
     },
     "execution_count": 67,
     "metadata": {},
     "output_type": "execute_result"
    }
   ],
   "source": [
    "number_of_nodes=len(grafo)\n",
    "number_of_nodes"
   ]
  },
  {
   "cell_type": "markdown",
   "metadata": {},
   "source": [
    "###### Get the number of edges!"
   ]
  },
  {
   "cell_type": "code",
   "execution_count": 68,
   "metadata": {},
   "outputs": [
    {
     "data": {
      "text/plain": [
       "2645247"
      ]
     },
     "execution_count": 68,
     "metadata": {},
     "output_type": "execute_result"
    }
   ],
   "source": [
    "number_of_edges= sum([len(grafo[node]) for node in grafo])\n",
    "number_of_edges"
   ]
  },
  {
   "cell_type": "markdown",
   "metadata": {},
   "source": [
    "###### Get the average node degree. Is the graph dense?"
   ]
  },
  {
   "cell_type": "markdown",
   "metadata": {},
   "source": [
    "In graph theory, the degree (or valency) of a vertex of a graph is the number of edges incident to the vertex. The degree of a vertex $v$ is denoted $\\deg(v)$."
   ]
  },
  {
   "cell_type": "code",
   "execution_count": 6,
   "metadata": {},
   "outputs": [
    {
     "data": {
      "text/plain": [
       "11.47127353939223"
      ]
     },
     "execution_count": 6,
     "metadata": {},
     "output_type": "execute_result"
    }
   ],
   "source": [
    "avg_degree= 2*number_of_edges/number_of_nodes\n",
    "avg_degree"
   ]
  },
  {
   "cell_type": "markdown",
   "metadata": {},
   "source": [
    "As we see, on average a node has 11-12 edges connected with him.\n",
    "In mathematics, a dense graph is a graph in which the number of edges is close to the maximal number of edges, so\n",
    "we can conclude that the graph is quietly sparse."
   ]
  },
  {
   "cell_type": "markdown",
   "metadata": {},
   "source": [
    "## RQ2 \n",
    "Given a category $C_0 = \\{article_1, article_2, ... \\}$ as input we want to rank all of the nodes in V according to the following criteria:"
   ]
  },
  {
   "cell_type": "code",
   "execution_count": 2,
   "metadata": {},
   "outputs": [],
   "source": [
    "import handler"
   ]
  },
  {
   "cell_type": "code",
   "execution_count": 8,
   "metadata": {},
   "outputs": [],
   "source": [
    "h0 = handler.Handler()"
   ]
  },
  {
   "cell_type": "code",
   "execution_count": 9,
   "metadata": {},
   "outputs": [
    {
     "name": "stdout",
     "output_type": "stream",
     "text": [
      "51.707557916641235\n"
     ]
    }
   ],
   "source": [
    "st = time()\n",
    "dic = h0.scheduler()\n",
    "print(time()-st)"
   ]
  },
  {
   "cell_type": "code",
   "execution_count": 10,
   "metadata": {},
   "outputs": [
    {
     "data": {
      "text/plain": [
       "[('American_Jews', -1),\n",
       " ('Article_Feedback_Pilot', 3.3593507441118944),\n",
       " ('Indian_films', 3.976806402789485),\n",
       " ('American_films', 4.050082806249839),\n",
       " ('English-language_films', 4.088070781779435),\n",
       " ('American_film_actors', 4.10453687713618),\n",
       " ('British_films', 4.11170790341232),\n",
       " ('English_television_actors', 4.129379221549691),\n",
       " ('English-language_albums', 4.144212559730319),\n",
       " ('Black-and-white_films', 4.147873982967868),\n",
       " ('American_television_actors', 4.156044750147816),\n",
       " ('Fellows_of_the_Royal_Society', 4.259230553848765),\n",
       " ('Harvard_University_alumni', 4.265302648731422),\n",
       " ('People_from_New_York_City', 4.269089524538309),\n",
       " ('Living_people', 4.296709285779925),\n",
       " ('American_military_personnel_of_World_War_II', 4.341621533194517),\n",
       " ('Members_of_the_United_Kingdom_Parliament_for_English_constituencies',\n",
       "  4.858907875779367),\n",
       " ('Debut_albums', 5.044382792909449),\n",
       " ('Place_of_birth_missing_(living_people)', 5.07528799258745),\n",
       " ('Year_of_birth_missing', 5.084429003021522),\n",
       " ('Major_League_Baseball_pitchers', 5.098290806687047),\n",
       " ('Windows_games', 5.101862533497698),\n",
       " ('Year_of_birth_missing_(living_people)', 5.142038677602383),\n",
       " ('English_cricketers', 5.147649710401407),\n",
       " ('Year_of_birth_unknown', 5.158582279674101),\n",
       " ('Rivers_of_Romania', 5.681921796279624),\n",
       " ('Year_of_death_missing', 5.9193511992076475),\n",
       " ('English_footballers', 5.959095113576541),\n",
       " ('The_Football_League_players', 5.971590994551335),\n",
       " ('Association_football_forwards', 5.984005685201781),\n",
       " ('Association_football_goalkeepers', 5.9846432143040325),\n",
       " ('Association_football_defenders', 6.0248340434479175),\n",
       " ('Association_football_midfielders', 6.035379725417279),\n",
       " ('Main_Belt_asteroids', 7.0171284187865774),\n",
       " ('Asteroids_named_for_people', 9.48723807020842)]"
      ]
     },
     "execution_count": 10,
     "metadata": {},
     "output_type": "execute_result"
    }
   ],
   "source": [
    "dic"
   ]
  },
  {
   "cell_type": "code",
   "execution_count": null,
   "metadata": {},
   "outputs": [],
   "source": []
  }
 ],
 "metadata": {
  "kernelspec": {
   "display_name": "Python 3",
   "language": "python",
   "name": "python3"
  },
  "language_info": {
   "codemirror_mode": {
    "name": "ipython",
    "version": 3
   },
   "file_extension": ".py",
   "mimetype": "text/x-python",
   "name": "python",
   "nbconvert_exporter": "python",
   "pygments_lexer": "ipython3",
   "version": "3.6.6"
  },
  "varInspector": {
   "cols": {
    "lenName": 16,
    "lenType": 16,
    "lenVar": 40
   },
   "kernels_config": {
    "python": {
     "delete_cmd_postfix": "",
     "delete_cmd_prefix": "del ",
     "library": "var_list.py",
     "varRefreshCmd": "print(var_dic_list())"
    },
    "r": {
     "delete_cmd_postfix": ") ",
     "delete_cmd_prefix": "rm(",
     "library": "var_list.r",
     "varRefreshCmd": "cat(var_dic_list()) "
    }
   },
   "oldHeight": 122,
   "position": {
    "height": "40px",
    "left": "833px",
    "right": "81px",
    "top": "129px",
    "width": "350px"
   },
   "types_to_exclude": [
    "module",
    "function",
    "builtin_function_or_method",
    "instance",
    "_Feature"
   ],
   "varInspector_section_display": "none",
   "window_display": false
  }
 },
 "nbformat": 4,
 "nbformat_minor": 2
}
